{
 "cells": [
  {
   "attachments": {},
   "cell_type": "markdown",
   "metadata": {},
   "source": [
    "### Convert raw data csv file to Structured Dataset csv file"
   ]
  },
  {
   "cell_type": "code",
   "execution_count": 17,
   "metadata": {},
   "outputs": [],
   "source": [
    "# Import Libraries\n",
    "\n",
    "import pandas\n",
    "import sys\n",
    "import numpy\n",
    "import math"
   ]
  },
  {
   "attachments": {},
   "cell_type": "markdown",
   "metadata": {},
   "source": [
    "### Function to convert unstructured data to structured dataset"
   ]
  },
  {
   "cell_type": "code",
   "execution_count": 18,
   "metadata": {},
   "outputs": [],
   "source": [
    "def prepare_dataset(bacteria_name, bacteria_short_name, antibiotic_name, datasets_info):\n",
    "    # Read file from folder\n",
    "    file_to_read = './raw_data_from_NCBI/' + antibiotic_name + '.csv'\n",
    "    raw_data = pandas.read_csv(file_to_read)\n",
    "\n",
    "    # Variables to track details about the dataset\n",
    "    number_of_cols = 0\n",
    "    resistant_isolates_count = 0\n",
    "    susceptible_isolates_count = 0\n",
    "\n",
    "    # String for resistant and susceptible as present in raw dataset\n",
    "    resistant_str   = antibiotic_name + \"=R\"\n",
    "    susceptible_str = antibiotic_name + \"=S\"\n",
    "\n",
    "    # Dropping unwanted column\n",
    "    unwanted_columns = [\"Strain\", \"Isolate identifiers\", \"AMR genotypes core\"]\n",
    "    raw_data.drop(labels=unwanted_columns, inplace=True, axis=1)\n",
    "\n",
    "    # Dropping unwanted rows\n",
    "    raw_data.drop(raw_data[(raw_data['#Organism group'] != bacteria_name )].index, inplace=True)\n",
    "    copy_raw_data = raw_data\n",
    "    for index in raw_data.index:\n",
    "        if not ((raw_data['AST phenotypes'][index]) != (raw_data['AST phenotypes'][index])):    \n",
    "            if (raw_data['AST phenotypes'][index]).split(',').count(resistant_str) > 0:\n",
    "                copy_raw_data['AST phenotypes'][index] = resistant_str\n",
    "            elif (raw_data['AST phenotypes'][index]).split(',').count(susceptible_str) > 0:    \n",
    "                copy_raw_data['AST phenotypes'][index] = susceptible_str\n",
    "            else:\n",
    "                copy_raw_data = copy_raw_data.drop(index)\n",
    "\n",
    "    # Reset the index after dropping rows\n",
    "    raw_data = copy_raw_data.reset_index(drop=True)\n",
    "\n",
    "    # Creating new data frame to store structured data\n",
    "    columns = [\"Isolate\"]\n",
    "    structured_data = pandas.DataFrame(columns=columns)\n",
    "\n",
    "    # Assigning Isolate column values to the new data frame\n",
    "    for index in raw_data.index:\n",
    "        structured_data.loc[index] = [raw_data[\"Isolate\"][index]]        \n",
    "\n",
    "    # Assigning all the new genes as columns in the new data frame\n",
    "    for index in raw_data.index:\n",
    "        if not ((raw_data[\"AMR genotypes\"][index]) != (raw_data[\"AMR genotypes\"][index])):\n",
    "            for gene in (raw_data[\"AMR genotypes\"][index]).split(\",\"):\n",
    "                if gene in structured_data.columns:\n",
    "                    structured_data.at[index, gene] = 1\n",
    "                else:\n",
    "                    structured_data = structured_data.assign(**{gene: numpy.zeros(structured_data.shape[0])})\n",
    "                    structured_data.at[index, gene] = 1\n",
    "                    number_of_cols += 1\n",
    "\n",
    "    # Assigning the AST phenotypes (target column) from raw dataset to new dataframe                    \n",
    "    structured_data[\"AST phenotypes\"] = raw_data[\"AST phenotypes\"]\n",
    "\n",
    "    # Converting String values in new data frame to integer binary values\n",
    "    for index in structured_data.index:\n",
    "        if structured_data[\"AST phenotypes\"][index] == resistant_str:\n",
    "            structured_data.at[index, \"AST phenotypes\"] = 1\n",
    "            resistant_isolates_count += 1\n",
    "        \n",
    "        if structured_data[\"AST phenotypes\"][index] == susceptible_str:\n",
    "            structured_data.at[index, \"AST phenotypes\"] = 0\n",
    "            susceptible_isolates_count += 1 \n",
    "\n",
    "    # Converting float values to integer values for classification\n",
    "    for i in structured_data.columns:\n",
    "        try:\n",
    "            structured_data[[i]] = structured_data[[i]].astype(float).astype(int)\n",
    "        except:\n",
    "            pass\n",
    "    \n",
    "    # Saving the structured data frame as a csv file if it has at least 25 data points\n",
    "    if(len(structured_data) >= 25):\n",
    "        file_path = \"./datasets/\"\n",
    "        file_name = f\"{bacteria_short_name}_{antibiotic_name}.csv\"\n",
    "        structured_data.rename_axis('index').to_csv(file_path+file_name)\n",
    "\n",
    "        # Entering details and properties of the dataset into dataset_info csv file\n",
    "        datasets_info.loc[len(datasets_info.index)] = [file_name, bacteria_name, antibiotic_name,  len(structured_data), number_of_cols, resistant_isolates_count, susceptible_isolates_count]\n",
    "    \n"
   ]
  },
  {
   "attachments": {},
   "cell_type": "markdown",
   "metadata": {},
   "source": [
    "### Driver code to invoke the function with raw data as arguments"
   ]
  },
  {
   "cell_type": "code",
   "execution_count": 19,
   "metadata": {},
   "outputs": [],
   "source": [
    "# Set of bacteria\n",
    "bacteria_names = [\"Klebsiella pneumoniae\", \"E.coli and Shigella\", \"Salmonella enterica\", \"Acinetobacter baumannii\", \"Campylobacter jejuni\"]\n",
    "\n",
    "# Set of corresponding bacteria names\n",
    "bacteria_short_names = [\"KP\", \"EcS\", \"SE\", \"AB\", \"CJ\"]\n",
    "\n",
    "# Set of antibiotic names\n",
    "antibiotic_names = [\"meropenem\", \"ciprofloxacin\", \"amoxicillin-clavulanic acid\", \"gentamicin\", \"imipenem\", \"ertapenem\", \"azithromycin\"]\n",
    "\n",
    "datasets_info = pandas.DataFrame(columns=[\"Dataset Name\", \"Bacteria_name\", \"Antibiotic Name\", \"Number of Rows\", \"Number of columns\", \"Resistant isolates count\", \"Susceptible isolates count\"])\n",
    "\n",
    "# Running all combinations of bacteria with the list of antibiotics to form datasets \n",
    "for i in range(0,len(bacteria_names)):\n",
    "    for j in range(0, len(antibiotic_names)):\n",
    "        prepare_dataset(bacteria_names[i], bacteria_short_names[i],antibiotic_names[j], datasets_info)\n",
    "\n",
    "datasets_info.rename_axis('index').to_csv(\"datasets_info.csv\")\n"
   ]
  }
 ],
 "metadata": {
  "kernelspec": {
   "display_name": "Python 3",
   "language": "python",
   "name": "python3"
  },
  "language_info": {
   "codemirror_mode": {
    "name": "ipython",
    "version": 3
   },
   "file_extension": ".py",
   "mimetype": "text/x-python",
   "name": "python",
   "nbconvert_exporter": "python",
   "pygments_lexer": "ipython3",
   "version": "3.10.6"
  },
  "orig_nbformat": 4,
  "vscode": {
   "interpreter": {
    "hash": "31f2aee4e71d21fbe5cf8b01ff0e069b9275f58929596ceb00d14d90e3e16cd6"
   }
  }
 },
 "nbformat": 4,
 "nbformat_minor": 2
}
