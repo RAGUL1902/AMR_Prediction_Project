{
 "cells": [
  {
   "attachments": {},
   "cell_type": "markdown",
   "metadata": {},
   "source": [
    "### Convert raw data csv file to Structured Dataset csv file"
   ]
  },
  {
   "cell_type": "code",
   "execution_count": 3,
   "metadata": {},
   "outputs": [],
   "source": [
    "import pandas\n",
    "import sys\n",
    "import numpy\n",
    "import math"
   ]
  },
  {
   "cell_type": "code",
   "execution_count": 14,
   "metadata": {},
   "outputs": [],
   "source": [
    "def prepare_dataset(bacteria_name, bacteria_short_name, antibiotic_name):\n",
    "    file_to_read = './raw_data_from_NCBI/' + antibiotic_name + '.csv'\n",
    "    raw_data = pandas.read_csv(file_to_read)\n",
    "\n",
    "    # Dropping unwanted column\n",
    "    unwanted_columns = [\"Strain\", \"Isolate identifiers\", \"AMR genotypes core\"]\n",
    "    raw_data.drop(labels=unwanted_columns, inplace=True, axis=1)\n",
    "\n",
    "    # Dropping unwanted rows\n",
    "    raw_data.drop(raw_data[(raw_data['#Organism group'] != bacteria_name )].index, inplace=True)\n",
    "    copy_raw_data = raw_data\n",
    "    for index in raw_data.index:\n",
    "        if not ((raw_data['AST phenotypes'][index]) != (raw_data['AST phenotypes'][index])):    \n",
    "            if (raw_data['AST phenotypes'][index]).split(',').count(\"meropenem=R\") > 0:\n",
    "                copy_raw_data['AST phenotypes'][index] = \"meropenem=R\"\n",
    "            elif (raw_data['AST phenotypes'][index]).split(',').count(\"meropenem=S\") > 0:    \n",
    "                copy_raw_data['AST phenotypes'][index] = \"meropenem=S\"\n",
    "            else:\n",
    "                copy_raw_data = copy_raw_data.drop(index)\n",
    "\n",
    "\n",
    "    raw_data = copy_raw_data.reset_index(drop=True)\n",
    "\n",
    "    columns = [\"Isolate\"]\n",
    "    structured_data = pandas.DataFrame(columns=columns)\n",
    "\n",
    "    for index in raw_data.index:\n",
    "        structured_data.loc[index] = [raw_data[\"Isolate\"][index]]        \n",
    "\n",
    "    for index in raw_data.index:\n",
    "        if not ((raw_data[\"AMR genotypes\"][index]) != (raw_data[\"AMR genotypes\"][index])):\n",
    "            for gene in (raw_data[\"AMR genotypes\"][index]).split(\",\"):\n",
    "                if gene in structured_data.columns:\n",
    "                    structured_data.at[index, gene] = 1\n",
    "                else:\n",
    "                    structured_data = structured_data.assign(**{gene: numpy.zeros(structured_data.shape[0])})\n",
    "                    structured_data.at[index, gene] = 1\n",
    "                    \n",
    "    structured_data[\"AST phenotypes\"] = raw_data[\"AST phenotypes\"]\n",
    "\n",
    "    for index in structured_data.index:\n",
    "        if structured_data[\"AST phenotypes\"][index] == \"meropenem=R\":\n",
    "            structured_data.at[index, \"AST phenotypes\"] = 1\n",
    "        \n",
    "        if structured_data[\"AST phenotypes\"][index] == \"meropenem=S\":\n",
    "            structured_data.at[index, \"AST phenotypes\"] = 0\n",
    "\n",
    "    file_path = \"./datasets/\"\n",
    "    file_name = f\"{bacteria_short_name}_{antibiotic_name}.csv\"\n",
    "    structured_data.to_csv(file_path+file_name)\n",
    "\n",
    "\n",
    "    \n",
    "\n",
    "    \n"
   ]
  },
  {
   "cell_type": "code",
   "execution_count": 15,
   "metadata": {},
   "outputs": [],
   "source": [
    "bacteria_names = [\"Klebsiella pneumoniae\", \"E.coli and Shigella\", \"Salmonella enterica\", \"Acinetobacter baumannii\", \"Campylobacter jejuni\"]\n",
    "bacteria_short_names = [\"KP\", \"EcS\", \"SE\", \"AB\", \"CJ\"]\n",
    "antibiotic_names = [\"meropenem\", \"ciprofloxacin\", \"amoxicillin-clavulanic acid\"]\n",
    "\n",
    "for i in range(0,len(bacteria_names)):\n",
    "    for j in range(0, len(antibiotic_names)):\n",
    "        prepare_dataset(bacteria_names[i], bacteria_short_names[i],antibiotic_names[j])\n",
    "\n"
   ]
  }
 ],
 "metadata": {
  "kernelspec": {
   "display_name": "Python 3",
   "language": "python",
   "name": "python3"
  },
  "language_info": {
   "codemirror_mode": {
    "name": "ipython",
    "version": 3
   },
   "file_extension": ".py",
   "mimetype": "text/x-python",
   "name": "python",
   "nbconvert_exporter": "python",
   "pygments_lexer": "ipython3",
   "version": "3.10.6"
  },
  "orig_nbformat": 4,
  "vscode": {
   "interpreter": {
    "hash": "31f2aee4e71d21fbe5cf8b01ff0e069b9275f58929596ceb00d14d90e3e16cd6"
   }
  }
 },
 "nbformat": 4,
 "nbformat_minor": 2
}
