{
 "cells": [
  {
   "attachments": {},
   "cell_type": "markdown",
   "metadata": {},
   "source": [
    "## Importing Libraries"
   ]
  },
  {
   "cell_type": "code",
   "execution_count": 2,
   "metadata": {},
   "outputs": [],
   "source": [
    "import pandas as pd\n",
    "import numpy as np\n",
    "import matplotlib.pyplot as plt\n",
    "from matplotlib.colors import ListedColormap\n",
    "import sklearn.model_selection\n",
    "import sklearn.metrics\n",
    "import sklearn.ensemble\n",
    "import seaborn as sns\n",
    "\n",
    "from sklearn import model_selection\n",
    "from sklearn.ensemble import RandomForestClassifier\n",
    "from sklearn.linear_model import LogisticRegression\n",
    "from sklearn.naive_bayes import GaussianNB\n",
    "from sklearn.naive_bayes import MultinomialNB\n",
    "from sklearn.tree import DecisionTreeClassifier\n",
    "from sklearn.svm import SVC\n",
    "from sklearn.neighbors import KNeighborsClassifier\n",
    "from sklearn.discriminant_analysis import LinearDiscriminantAnalysis\n",
    "from sklearn.ensemble import ExtraTreesClassifier\n",
    "from sklearn.ensemble import AdaBoostClassifier\n",
    "from sklearn.ensemble import GradientBoostingClassifier\n",
    "from sklearn.ensemble import BaggingClassifier\n",
    "from sklearn.metrics import roc_curve, roc_auc_score\n",
    "from sklearn.metrics import precision_recall_curve\n",
    "from sklearn.metrics import f1_score\n",
    "from sklearn.metrics import auc\n",
    "from sklearn.metrics import precision_score, recall_score\n",
    "import pickle\n",
    "from sklearn.model_selection import StratifiedKFold\n",
    "from sklearn.model_selection import cross_val_score\n",
    "from sklearn.model_selection import train_test_split\n",
    "\n",
    "import warnings\n",
    "warnings.simplefilter(action='ignore', category=FutureWarning)\n",
    "\n",
    "#TODO: Remove this\n",
    "warnings.filterwarnings('ignore') \n",
    "\n",
    "\n",
    "\n",
    "from tabulate import tabulate\n",
    "\n",
    "%matplotlib inline"
   ]
  },
  {
   "attachments": {},
   "cell_type": "markdown",
   "metadata": {},
   "source": [
    "## Training and Predicting all Statistical Model"
   ]
  },
  {
   "cell_type": "code",
   "execution_count": 14,
   "metadata": {},
   "outputs": [],
   "source": [
    "def run_prediction(data_set_file, bacteria_name, bacteria_short_name, antibiotic_name, Overall_Performance):\n",
    "    \n",
    "    # Datasets location\n",
    "    data_sets_location = \"./datasets/\"\n",
    "\n",
    "    # Load dataset into memory\n",
    "    data_set = pd.read_csv(data_sets_location + data_set_file)\n",
    "\n",
    "    # Split data into features and labels\n",
    "    X = data_set.iloc[:, 2:-1]\n",
    "    Y = data_set.iloc[:, -1]  # last column label\n",
    "\n",
    "    X_train, X_test, Y_train, Y_test = train_test_split(\n",
    "        X, Y, stratify=Y, test_size=0.25, random_state=42)\n",
    "\n",
    "    # Create data frames for outputs\n",
    "    Training_Performance = pd.DataFrame(columns=['classifier', 'Train set size', 'Susceptible', 'Resistant', 'train_f1', 'train_recall', 'train_precision'])\n",
    "    Test_Performance = pd.DataFrame(columns=['classifier','Test set size', 'Susceptible', 'Resistant', 'test_f1', 'test_recall', 'test_precision'])\n",
    "    Tf_CV = pd.DataFrame(columns=[])\n",
    "    Area_Under_ROC = pd.DataFrame(columns=[])\n",
    "    Area_Under_Precision_Recall = pd.DataFrame(columns=[])\n",
    "    Model_Predict = pd.DataFrame(columns=[])\n",
    "\n",
    "    # Add all the models models\n",
    "    models = []\n",
    "    models.append(('LogR', LogisticRegression()))\n",
    "    models.append(('gNB', GaussianNB()))\n",
    "    models.append(('SVM', SVC(kernel='rbf', probability=True)))\n",
    "    models.append(('DT', DecisionTreeClassifier(\n",
    "        criterion='entropy', random_state=1)))\n",
    "    models.append(('RF', RandomForestClassifier(\n",
    "        n_estimators=10, criterion='entropy', random_state=0)))\n",
    "    models.append(('KNN', KNeighborsClassifier(\n",
    "        n_neighbors=5, metric='minkowski', p=2)))\n",
    "    models.append(('LDA', LinearDiscriminantAnalysis()))\n",
    "    models.append(('mNB', MultinomialNB()))\n",
    "    models.append(('ABC', AdaBoostClassifier()))\n",
    "    models.append(('GBC', GradientBoostingClassifier()))\n",
    "    models.append(('ETC', ExtraTreesClassifier()))\n",
    "    models.append(('BC', BaggingClassifier()))\n",
    "\n",
    "    high_score_model_name = \"\"\n",
    "    max_model_f1_score = 0\n",
    "    max_model_recall = 0\n",
    "    max_model_precision = 0\n",
    "\n",
    "\n",
    "    # Evaluating all the models\n",
    "    for model_name, model in models:\n",
    "        model = model.fit(X_train, Y_train)\n",
    "        \n",
    "        #Train performance\n",
    "        Y_train_pred = model.predict(X_train)\n",
    "        Train_precision = precision_score(Y_train, Y_train_pred, average='macro').round(3)\n",
    "        Train_recall = recall_score(Y_train, Y_train_pred, average='macro').round(3)\n",
    "        Train_f1 = f1_score (Y_train, Y_train_pred, average='macro').round(3)\n",
    "        Training_Performance.loc[len(Training_Performance)] = [model_name, len(X_train), Y_train.value_counts()[0], Y_train.value_counts()[1], Train_f1, Train_recall, Train_precision]\n",
    "        \n",
    "        #Test performance\n",
    "        Y_test_pred = model.predict(X_test)\n",
    "        Test_precision = precision_score(Y_test, Y_test_pred, average='macro').round(3)\n",
    "        Test_recall = recall_score(Y_test, Y_test_pred, average='macro').round(3)\n",
    "        Test_f1 = f1_score (Y_test, Y_test_pred, average='macro').round(3)\n",
    "        Test_Performance.loc[len(Test_Performance)] = [model_name, len(X_test), Y_test.value_counts()[0], Y_test.value_counts()[1], Test_f1, Test_recall, Test_precision]\n",
    "\n",
    "        # Keeping track of highest accuracy model\n",
    "        if(max_model_f1_score < Test_f1):\n",
    "            max_model_f1_score = Test_f1\n",
    "            high_score_model_name = model_name    \n",
    "            max_model_recall = Test_recall\n",
    "            max_model_precision = Test_precision\n",
    "\n",
    "    # Appending the dataset details and best model details into the overall dataframe \n",
    "    Overall_Performance.loc[len(Overall_Performance)] = [data_set_file, bacteria_name, antibiotic_name, len(X_train), Y_train.value_counts()[0], Y_train.value_counts()[1],len(X_test), Y_test.value_counts()[0], Y_test.value_counts()[1], high_score_model_name, max_model_f1_score, max_model_recall, max_model_precision]\n",
    "\n"
   ]
  },
  {
   "attachments": {},
   "cell_type": "markdown",
   "metadata": {},
   "source": [
    "## Driver Code"
   ]
  },
  {
   "cell_type": "code",
   "execution_count": 15,
   "metadata": {},
   "outputs": [],
   "source": [
    "# Importing datasets\n",
    "data_sets = pd.read_csv(\"./datasets_info.csv\")\n",
    "Overall_Performance = pd.DataFrame(columns=[\"Dataset Name\", \"Bacteria Name\", \"Antibiotic Name\", \"Train set size\", 'Susceptible', 'Resistant', 'Test set size', 'Susceptible', 'Resistant', \"Best Performing Classifier\", \"Best F1 Score\", \"Recall\", \"Precision\"])\n",
    "\n",
    "# Iterating on all datasets to find corresponding best model\n",
    "for index, row in data_sets.iterrows():\n",
    "    run_prediction(data_sets[\"Dataset Name\"][index], data_sets[\"Bacteria Name\"][index], data_sets[\"Bacteria Short Name\"][index], data_sets[\"Antibiotic Name\"][index], Overall_Performance)\n",
    "\n",
    "# Exporting best model details for all datasets in a sheet\n",
    "Overall_Performance.to_csv(\"Best_statistical_model_on_all_datasets.csv\")"
   ]
  }
 ],
 "metadata": {
  "kernelspec": {
   "display_name": "Python 3",
   "language": "python",
   "name": "python3"
  },
  "language_info": {
   "codemirror_mode": {
    "name": "ipython",
    "version": 3
   },
   "file_extension": ".py",
   "mimetype": "text/x-python",
   "name": "python",
   "nbconvert_exporter": "python",
   "pygments_lexer": "ipython3",
   "version": "3.10.6 (main, Nov 14 2022, 16:10:14) [GCC 11.3.0]"
  },
  "orig_nbformat": 4,
  "vscode": {
   "interpreter": {
    "hash": "31f2aee4e71d21fbe5cf8b01ff0e069b9275f58929596ceb00d14d90e3e16cd6"
   }
  }
 },
 "nbformat": 4,
 "nbformat_minor": 2
}
